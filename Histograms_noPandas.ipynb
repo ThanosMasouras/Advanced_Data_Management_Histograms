{
 "cells": [
  {
   "cell_type": "code",
   "execution_count": 1,
   "id": "b319cfd6",
   "metadata": {},
   "outputs": [],
   "source": [
    "import csv\n",
    "import numpy as np\n",
    "from matplotlib import pyplot as plt"
   ]
  },
  {
   "cell_type": "code",
   "execution_count": 2,
   "id": "af257368",
   "metadata": {},
   "outputs": [],
   "source": [
    "\n",
    "# read the CSV file and extract the Income data into an array\n",
    "income = []\n",
    "with open('acs2015_census_tract_data.csv', 'r') as csvfile:\n",
    "    reader = csv.DictReader(csvfile)\n",
    "    for row in reader:\n",
    "        if row['Income'] != '':\n",
    "            income.append(float(row['Income']))"
   ]
  },
  {
   "cell_type": "code",
   "execution_count": 3,
   "id": "faabfa70",
   "metadata": {},
   "outputs": [
    {
     "name": "stdout",
     "output_type": "stream",
     "text": [
      "Number of valid Income values:  72901\n"
     ]
    }
   ],
   "source": [
    "# print the number of rows for which Income has a valid value\n",
    "print(\"Number of valid Income values: \", len(income))"
   ]
  },
  {
   "cell_type": "code",
   "execution_count": 4,
   "id": "c788f4e4",
   "metadata": {},
   "outputs": [],
   "source": [
    "# calculate the minimum and maximum values of Income\n",
    "min_income = min(income)\n",
    "max_income = max(income)"
   ]
  },
  {
   "cell_type": "code",
   "execution_count": 5,
   "id": "2a329519",
   "metadata": {},
   "outputs": [
    {
     "data": {
      "text/plain": [
       "2461.39"
      ]
     },
     "execution_count": 5,
     "metadata": {},
     "output_type": "execute_result"
    }
   ],
   "source": [
    "bin_width = (max_income - min_income) / 100\n",
    "bin_width"
   ]
  },
  {
   "cell_type": "code",
   "execution_count": 6,
   "id": "58c3ef80",
   "metadata": {},
   "outputs": [],
   "source": [
    "bins1_test = []\n",
    "for i in range(101):\n",
    "    bins1_test.append(round(min_income + (bin_width*i),2))"
   ]
  },
  {
   "cell_type": "code",
   "execution_count": 7,
   "id": "7f9e5b6d",
   "metadata": {
    "scrolled": true
   },
   "outputs": [
    {
     "data": {
      "text/plain": [
       "[2611.0,\n",
       " 5072.39,\n",
       " 7533.78,\n",
       " 9995.17,\n",
       " 12456.56,\n",
       " 14917.95,\n",
       " 17379.34,\n",
       " 19840.73,\n",
       " 22302.12,\n",
       " 24763.51,\n",
       " 27224.9,\n",
       " 29686.29,\n",
       " 32147.68,\n",
       " 34609.07,\n",
       " 37070.46,\n",
       " 39531.85,\n",
       " 41993.24,\n",
       " 44454.63,\n",
       " 46916.02,\n",
       " 49377.41,\n",
       " 51838.8,\n",
       " 54300.19,\n",
       " 56761.58,\n",
       " 59222.97,\n",
       " 61684.36,\n",
       " 64145.75,\n",
       " 66607.14,\n",
       " 69068.53,\n",
       " 71529.92,\n",
       " 73991.31,\n",
       " 76452.7,\n",
       " 78914.09,\n",
       " 81375.48,\n",
       " 83836.87,\n",
       " 86298.26,\n",
       " 88759.65,\n",
       " 91221.04,\n",
       " 93682.43,\n",
       " 96143.82,\n",
       " 98605.21,\n",
       " 101066.6,\n",
       " 103527.99,\n",
       " 105989.38,\n",
       " 108450.77,\n",
       " 110912.16,\n",
       " 113373.55,\n",
       " 115834.94,\n",
       " 118296.33,\n",
       " 120757.72,\n",
       " 123219.11,\n",
       " 125680.5,\n",
       " 128141.89,\n",
       " 130603.28,\n",
       " 133064.67,\n",
       " 135526.06,\n",
       " 137987.45,\n",
       " 140448.84,\n",
       " 142910.23,\n",
       " 145371.62,\n",
       " 147833.01,\n",
       " 150294.4,\n",
       " 152755.79,\n",
       " 155217.18,\n",
       " 157678.57,\n",
       " 160139.96,\n",
       " 162601.35,\n",
       " 165062.74,\n",
       " 167524.13,\n",
       " 169985.52,\n",
       " 172446.91,\n",
       " 174908.3,\n",
       " 177369.69,\n",
       " 179831.08,\n",
       " 182292.47,\n",
       " 184753.86,\n",
       " 187215.25,\n",
       " 189676.64,\n",
       " 192138.03,\n",
       " 194599.42,\n",
       " 197060.81,\n",
       " 199522.2,\n",
       " 201983.59,\n",
       " 204444.98,\n",
       " 206906.37,\n",
       " 209367.76,\n",
       " 211829.15,\n",
       " 214290.54,\n",
       " 216751.93,\n",
       " 219213.32,\n",
       " 221674.71,\n",
       " 224136.1,\n",
       " 226597.49,\n",
       " 229058.88,\n",
       " 231520.27,\n",
       " 233981.66,\n",
       " 236443.05,\n",
       " 238904.44,\n",
       " 241365.83,\n",
       " 243827.22,\n",
       " 246288.61,\n",
       " 248750.0]"
      ]
     },
     "execution_count": 7,
     "metadata": {},
     "output_type": "execute_result"
    }
   ],
   "source": [
    "bins1_test"
   ]
  },
  {
   "cell_type": "code",
   "execution_count": 8,
   "id": "482fb541",
   "metadata": {
    "scrolled": true
   },
   "outputs": [],
   "source": [
    "bins_elements = [0]*100\n",
    "for i in range(len(income)):\n",
    "    for j in range(100):\n",
    "        if income[i] == bins1_test[j]:\n",
    "            bins_elements[j] = bins_elements[j] + 1\n",
    "            break\n",
    "        elif income[i] < bins1_test[j]:\n",
    "            bins_elements[j-1] = bins_elements[j-1] + 1\n",
    "            break\n",
    "        elif income[i] > bins1_test[-2]:\n",
    "            bins_elements[-1] = bins_elements[j-1] + 1\n",
    "            break"
   ]
  },
  {
   "cell_type": "code",
   "execution_count": 9,
   "id": "15526895",
   "metadata": {
    "scrolled": true
   },
   "outputs": [
    {
     "data": {
      "text/plain": [
       "[13,\n",
       " 23,\n",
       " 85,\n",
       " 240,\n",
       " 386,\n",
       " 687,\n",
       " 799,\n",
       " 1286,\n",
       " 1413,\n",
       " 1938,\n",
       " 1936,\n",
       " 2715,\n",
       " 2740,\n",
       " 3167,\n",
       " 3081,\n",
       " 3676,\n",
       " 3331,\n",
       " 3384,\n",
       " 3175,\n",
       " 3465,\n",
       " 2996,\n",
       " 2738,\n",
       " 2358,\n",
       " 2613,\n",
       " 2199,\n",
       " 1951,\n",
       " 1618,\n",
       " 1649,\n",
       " 1500,\n",
       " 1362,\n",
       " 1155,\n",
       " 1133,\n",
       " 1115,\n",
       " 960,\n",
       " 817,\n",
       " 773,\n",
       " 741,\n",
       " 696,\n",
       " 613,\n",
       " 593,\n",
       " 624,\n",
       " 502,\n",
       " 403,\n",
       " 405,\n",
       " 379,\n",
       " 294,\n",
       " 292,\n",
       " 262,\n",
       " 273,\n",
       " 218,\n",
       " 211,\n",
       " 159,\n",
       " 148,\n",
       " 121,\n",
       " 122,\n",
       " 117,\n",
       " 108,\n",
       " 83,\n",
       " 91,\n",
       " 87,\n",
       " 105,\n",
       " 68,\n",
       " 69,\n",
       " 52,\n",
       " 59,\n",
       " 49,\n",
       " 44,\n",
       " 44,\n",
       " 36,\n",
       " 22,\n",
       " 40,\n",
       " 23,\n",
       " 22,\n",
       " 18,\n",
       " 15,\n",
       " 21,\n",
       " 20,\n",
       " 6,\n",
       " 19,\n",
       " 11,\n",
       " 14,\n",
       " 19,\n",
       " 16,\n",
       " 16,\n",
       " 10,\n",
       " 10,\n",
       " 10,\n",
       " 7,\n",
       " 3,\n",
       " 2,\n",
       " 2,\n",
       " 4,\n",
       " 2,\n",
       " 5,\n",
       " 4,\n",
       " 3,\n",
       " 2,\n",
       " 2,\n",
       " 4,\n",
       " 4]"
      ]
     },
     "execution_count": 9,
     "metadata": {},
     "output_type": "execute_result"
    }
   ],
   "source": [
    "bins_elements"
   ]
  },
  {
   "cell_type": "code",
   "execution_count": 119,
   "id": "a143dad0",
   "metadata": {},
   "outputs": [
    {
     "name": "stdout",
     "output_type": "stream",
     "text": [
      "Number of rows with valid Income values: 72901\n",
      "Minimum income: 2611.0\n",
      "Maximum income 248750.0\n",
      "equiwidth:\n",
      "range 0 : [2611,5072),  numtuples:  13)\n",
      "range 1 : [5072,7533),  numtuples:  23)\n",
      "range 2 : [7533,9995),  numtuples:  85)\n",
      "range 3 : [9995,12456),  numtuples:  240)\n",
      "range 4 : [12456,14917),  numtuples:  386)\n",
      "range 5 : [14917,17379),  numtuples:  687)\n",
      "range 6 : [17379,19840),  numtuples:  799)\n",
      "range 7 : [19840,22302),  numtuples:  1286)\n",
      "range 8 : [22302,24763),  numtuples:  1413)\n",
      "range 9 : [24763,27224),  numtuples:  1938)\n",
      "range 10 : [27224,29686),  numtuples:  1936)\n",
      "range 11 : [29686,32147),  numtuples:  2715)\n",
      "range 12 : [32147,34609),  numtuples:  2740)\n",
      "range 13 : [34609,37070),  numtuples:  3167)\n",
      "range 14 : [37070,39531),  numtuples:  3081)\n",
      "range 15 : [39531,41993),  numtuples:  3676)\n",
      "range 16 : [41993,44454),  numtuples:  3331)\n",
      "range 17 : [44454,46916),  numtuples:  3384)\n",
      "range 18 : [46916,49377),  numtuples:  3175)\n",
      "range 19 : [49377,51838),  numtuples:  3465)\n",
      "range 20 : [51838,54300),  numtuples:  2996)\n",
      "range 21 : [54300,56761),  numtuples:  2738)\n",
      "range 22 : [56761,59222),  numtuples:  2358)\n",
      "range 23 : [59222,61684),  numtuples:  2613)\n",
      "range 24 : [61684,64145),  numtuples:  2199)\n",
      "range 25 : [64145,66607),  numtuples:  1951)\n",
      "range 26 : [66607,69068),  numtuples:  1618)\n",
      "range 27 : [69068,71529),  numtuples:  1649)\n",
      "range 28 : [71529,73991),  numtuples:  1500)\n",
      "range 29 : [73991,76452),  numtuples:  1362)\n",
      "range 30 : [76452,78914),  numtuples:  1155)\n",
      "range 31 : [78914,81375),  numtuples:  1133)\n",
      "range 32 : [81375,83836),  numtuples:  1115)\n",
      "range 33 : [83836,86298),  numtuples:  960)\n",
      "range 34 : [86298,88759),  numtuples:  817)\n",
      "range 35 : [88759,91221),  numtuples:  773)\n",
      "range 36 : [91221,93682),  numtuples:  741)\n",
      "range 37 : [93682,96143),  numtuples:  696)\n",
      "range 38 : [96143,98605),  numtuples:  613)\n",
      "range 39 : [98605,101066),  numtuples:  593)\n",
      "range 40 : [101066,103527),  numtuples:  624)\n",
      "range 41 : [103527,105989),  numtuples:  502)\n",
      "range 42 : [105989,108450),  numtuples:  403)\n",
      "range 43 : [108450,110912),  numtuples:  405)\n",
      "range 44 : [110912,113373),  numtuples:  379)\n",
      "range 45 : [113373,115834),  numtuples:  294)\n",
      "range 46 : [115834,118296),  numtuples:  292)\n",
      "range 47 : [118296,120757),  numtuples:  262)\n",
      "range 48 : [120757,123219),  numtuples:  273)\n",
      "range 49 : [123219,125680),  numtuples:  218)\n",
      "range 50 : [125680,128141),  numtuples:  211)\n",
      "range 51 : [128141,130603),  numtuples:  159)\n",
      "range 52 : [130603,133064),  numtuples:  148)\n",
      "range 53 : [133064,135526),  numtuples:  121)\n",
      "range 54 : [135526,137987),  numtuples:  122)\n",
      "range 55 : [137987,140448),  numtuples:  117)\n",
      "range 56 : [140448,142910),  numtuples:  108)\n",
      "range 57 : [142910,145371),  numtuples:  83)\n",
      "range 58 : [145371,147833),  numtuples:  91)\n",
      "range 59 : [147833,150294),  numtuples:  87)\n",
      "range 60 : [150294,152755),  numtuples:  105)\n",
      "range 61 : [152755,155217),  numtuples:  68)\n",
      "range 62 : [155217,157678),  numtuples:  69)\n",
      "range 63 : [157678,160139),  numtuples:  52)\n",
      "range 64 : [160139,162601),  numtuples:  59)\n",
      "range 65 : [162601,165062),  numtuples:  49)\n",
      "range 66 : [165062,167524),  numtuples:  44)\n",
      "range 67 : [167524,169985),  numtuples:  44)\n",
      "range 68 : [169985,172446),  numtuples:  36)\n",
      "range 69 : [172446,174908),  numtuples:  22)\n",
      "range 70 : [174908,177369),  numtuples:  40)\n",
      "range 71 : [177369,179831),  numtuples:  23)\n",
      "range 72 : [179831,182292),  numtuples:  22)\n",
      "range 73 : [182292,184753),  numtuples:  18)\n",
      "range 74 : [184753,187215),  numtuples:  15)\n",
      "range 75 : [187215,189676),  numtuples:  21)\n",
      "range 76 : [189676,192138),  numtuples:  20)\n",
      "range 77 : [192138,194599),  numtuples:  6)\n",
      "range 78 : [194599,197060),  numtuples:  19)\n",
      "range 79 : [197060,199522),  numtuples:  11)\n",
      "range 80 : [199522,201983),  numtuples:  14)\n",
      "range 81 : [201983,204444),  numtuples:  19)\n",
      "range 82 : [204444,206906),  numtuples:  16)\n",
      "range 83 : [206906,209367),  numtuples:  16)\n",
      "range 84 : [209367,211829),  numtuples:  10)\n",
      "range 85 : [211829,214290),  numtuples:  10)\n",
      "range 86 : [214290,216751),  numtuples:  10)\n",
      "range 87 : [216751,219213),  numtuples:  7)\n",
      "range 88 : [219213,221674),  numtuples:  3)\n",
      "range 89 : [221674,224136),  numtuples:  2)\n",
      "range 90 : [224136,226597),  numtuples:  2)\n",
      "range 91 : [226597,229058),  numtuples:  4)\n",
      "range 92 : [229058,231520),  numtuples:  2)\n",
      "range 93 : [231520,233981),  numtuples:  5)\n",
      "range 94 : [233981,236443),  numtuples:  4)\n",
      "range 95 : [236443,238904),  numtuples:  3)\n",
      "range 96 : [238904,241365),  numtuples:  2)\n",
      "range 97 : [241365,243827),  numtuples:  2)\n",
      "range 98 : [243827,246288),  numtuples:  4)\n",
      "range 99 : [246288,248750),  numtuples:  4)\n"
     ]
    }
   ],
   "source": [
    "print('Number of rows with valid Income values:', len(income))\n",
    "print(\"Minimum income:\", min_income)\n",
    "print(\"Maximum income\", max_income)\n",
    "print(\"equiwidth:\")\n",
    "for i in range(len(bins)-1):\n",
    "    print(\"range %d : [%d,%d),  numtuples:  %d)\" % (i,bins1_test[i],bins1_test[i+1], bins_elements[i]))"
   ]
  },
  {
   "cell_type": "code",
   "execution_count": 59,
   "id": "6f1a98af",
   "metadata": {},
   "outputs": [],
   "source": [
    "hist, bins = np.histogram(income, bins=100, range=(min_income, max_income))"
   ]
  },
  {
   "cell_type": "code",
   "execution_count": 102,
   "id": "212dbc95",
   "metadata": {
    "scrolled": true
   },
   "outputs": [
    {
     "data": {
      "text/plain": [
       "array([  13,   23,   85,  240,  386,  687,  799, 1286, 1413, 1938, 1936,\n",
       "       2715, 2740, 3167, 3081, 3676, 3331, 3384, 3175, 3465, 2996, 2738,\n",
       "       2358, 2613, 2199, 1951, 1618, 1649, 1500, 1362, 1155, 1133, 1115,\n",
       "        960,  817,  773,  741,  696,  613,  593,  624,  502,  403,  405,\n",
       "        379,  294,  292,  262,  273,  218,  211,  159,  148,  121,  122,\n",
       "        117,  108,   83,   91,   87,  105,   68,   69,   52,   59,   49,\n",
       "         44,   44,   36,   22,   40,   23,   22,   18,   15,   21,   20,\n",
       "          6,   19,   11,   14,   19,   16,   16,   10,   10,   10,    7,\n",
       "          3,    2,    2,    4,    2,    5,    4,    3,    2,    2,    4,\n",
       "          4])"
      ]
     },
     "execution_count": 102,
     "metadata": {},
     "output_type": "execute_result"
    }
   ],
   "source": [
    "hist"
   ]
  },
  {
   "cell_type": "code",
   "execution_count": 61,
   "id": "ab4d86be",
   "metadata": {
    "scrolled": true
   },
   "outputs": [
    {
     "name": "stdout",
     "output_type": "stream",
     "text": [
      "Number of rows with valid Income values: 72901\n",
      "Minimum income: 2611.0\n",
      "Maximum income 248750.0\n",
      "equiwidth:\n",
      "range 0 : [2611,5072),  numtuples:  13)\n",
      "range 1 : [5072,7533),  numtuples:  23)\n",
      "range 2 : [7533,9995),  numtuples:  85)\n",
      "range 3 : [9995,12456),  numtuples:  240)\n",
      "range 4 : [12456,14917),  numtuples:  386)\n",
      "range 5 : [14917,17379),  numtuples:  687)\n",
      "range 6 : [17379,19840),  numtuples:  799)\n",
      "range 7 : [19840,22302),  numtuples:  1286)\n",
      "range 8 : [22302,24763),  numtuples:  1413)\n",
      "range 9 : [24763,27224),  numtuples:  1938)\n",
      "range 10 : [27224,29686),  numtuples:  1936)\n",
      "range 11 : [29686,32147),  numtuples:  2715)\n",
      "range 12 : [32147,34609),  numtuples:  2740)\n",
      "range 13 : [34609,37070),  numtuples:  3167)\n",
      "range 14 : [37070,39531),  numtuples:  3081)\n",
      "range 15 : [39531,41993),  numtuples:  3676)\n",
      "range 16 : [41993,44454),  numtuples:  3331)\n",
      "range 17 : [44454,46916),  numtuples:  3384)\n",
      "range 18 : [46916,49377),  numtuples:  3175)\n",
      "range 19 : [49377,51838),  numtuples:  3465)\n",
      "range 20 : [51838,54300),  numtuples:  2996)\n",
      "range 21 : [54300,56761),  numtuples:  2738)\n",
      "range 22 : [56761,59222),  numtuples:  2358)\n",
      "range 23 : [59222,61684),  numtuples:  2613)\n",
      "range 24 : [61684,64145),  numtuples:  2199)\n",
      "range 25 : [64145,66607),  numtuples:  1951)\n",
      "range 26 : [66607,69068),  numtuples:  1618)\n",
      "range 27 : [69068,71529),  numtuples:  1649)\n",
      "range 28 : [71529,73991),  numtuples:  1500)\n",
      "range 29 : [73991,76452),  numtuples:  1362)\n",
      "range 30 : [76452,78914),  numtuples:  1155)\n",
      "range 31 : [78914,81375),  numtuples:  1133)\n",
      "range 32 : [81375,83836),  numtuples:  1115)\n",
      "range 33 : [83836,86298),  numtuples:  960)\n",
      "range 34 : [86298,88759),  numtuples:  817)\n",
      "range 35 : [88759,91221),  numtuples:  773)\n",
      "range 36 : [91221,93682),  numtuples:  741)\n",
      "range 37 : [93682,96143),  numtuples:  696)\n",
      "range 38 : [96143,98605),  numtuples:  613)\n",
      "range 39 : [98605,101066),  numtuples:  593)\n",
      "range 40 : [101066,103527),  numtuples:  624)\n",
      "range 41 : [103527,105989),  numtuples:  502)\n",
      "range 42 : [105989,108450),  numtuples:  403)\n",
      "range 43 : [108450,110912),  numtuples:  405)\n",
      "range 44 : [110912,113373),  numtuples:  379)\n",
      "range 45 : [113373,115834),  numtuples:  294)\n",
      "range 46 : [115834,118296),  numtuples:  292)\n",
      "range 47 : [118296,120757),  numtuples:  262)\n",
      "range 48 : [120757,123219),  numtuples:  273)\n",
      "range 49 : [123219,125680),  numtuples:  218)\n",
      "range 50 : [125680,128141),  numtuples:  211)\n",
      "range 51 : [128141,130603),  numtuples:  159)\n",
      "range 52 : [130603,133064),  numtuples:  148)\n",
      "range 53 : [133064,135526),  numtuples:  121)\n",
      "range 54 : [135526,137987),  numtuples:  122)\n",
      "range 55 : [137987,140448),  numtuples:  117)\n",
      "range 56 : [140448,142910),  numtuples:  108)\n",
      "range 57 : [142910,145371),  numtuples:  83)\n",
      "range 58 : [145371,147833),  numtuples:  91)\n",
      "range 59 : [147833,150294),  numtuples:  87)\n",
      "range 60 : [150294,152755),  numtuples:  105)\n",
      "range 61 : [152755,155217),  numtuples:  68)\n",
      "range 62 : [155217,157678),  numtuples:  69)\n",
      "range 63 : [157678,160139),  numtuples:  52)\n",
      "range 64 : [160139,162601),  numtuples:  59)\n",
      "range 65 : [162601,165062),  numtuples:  49)\n",
      "range 66 : [165062,167524),  numtuples:  44)\n",
      "range 67 : [167524,169985),  numtuples:  44)\n",
      "range 68 : [169985,172446),  numtuples:  36)\n",
      "range 69 : [172446,174908),  numtuples:  22)\n",
      "range 70 : [174908,177369),  numtuples:  40)\n",
      "range 71 : [177369,179831),  numtuples:  23)\n",
      "range 72 : [179831,182292),  numtuples:  22)\n",
      "range 73 : [182292,184753),  numtuples:  18)\n",
      "range 74 : [184753,187215),  numtuples:  15)\n",
      "range 75 : [187215,189676),  numtuples:  21)\n",
      "range 76 : [189676,192138),  numtuples:  20)\n",
      "range 77 : [192138,194599),  numtuples:  6)\n",
      "range 78 : [194599,197060),  numtuples:  19)\n",
      "range 79 : [197060,199522),  numtuples:  11)\n",
      "range 80 : [199522,201983),  numtuples:  14)\n",
      "range 81 : [201983,204444),  numtuples:  19)\n",
      "range 82 : [204444,206906),  numtuples:  16)\n",
      "range 83 : [206906,209367),  numtuples:  16)\n",
      "range 84 : [209367,211829),  numtuples:  10)\n",
      "range 85 : [211829,214290),  numtuples:  10)\n",
      "range 86 : [214290,216751),  numtuples:  10)\n",
      "range 87 : [216751,219213),  numtuples:  7)\n",
      "range 88 : [219213,221674),  numtuples:  3)\n",
      "range 89 : [221674,224136),  numtuples:  2)\n",
      "range 90 : [224136,226597),  numtuples:  2)\n",
      "range 91 : [226597,229058),  numtuples:  4)\n",
      "range 92 : [229058,231520),  numtuples:  2)\n",
      "range 93 : [231520,233981),  numtuples:  5)\n",
      "range 94 : [233981,236443),  numtuples:  4)\n",
      "range 95 : [236443,238904),  numtuples:  3)\n",
      "range 96 : [238904,241365),  numtuples:  2)\n",
      "range 97 : [241365,243827),  numtuples:  2)\n",
      "range 98 : [243827,246288),  numtuples:  4)\n",
      "range 99 : [246288,248750),  numtuples:  4)\n"
     ]
    }
   ],
   "source": [
    "print('Number of rows with valid Income values:', len(income))\n",
    "print(\"Minimum income:\", min_income)\n",
    "print(\"Maximum income\", max_income)\n",
    "print(\"equiwidth:\")\n",
    "for i in range(len(bins)-1):\n",
    "    print(\"range %d : [%d,%d),  numtuples:  %d)\" % (i,bins[i],bins[i+1], hist[i]))"
   ]
  },
  {
   "cell_type": "code",
   "execution_count": 62,
   "id": "53336f50",
   "metadata": {
    "scrolled": true
   },
   "outputs": [
    {
     "data": {
      "image/png": "[encoded data removed]",
      "text/plain": [
       "<Figure size 432x288 with 1 Axes>"
      ]
     },
     "metadata": {
      "needs_background": "light"
     },
     "output_type": "display_data"
    },
    {
     "data": {
      "text/plain": [
       "<Figure size 432x288 with 0 Axes>"
      ]
     },
     "metadata": {},
     "output_type": "display_data"
    }
   ],
   "source": [
    "plt.hist(income, bins=100)\n",
    "plt.xlim(0,max_income)\n",
    "plt.title(\"Equi-width Histogram\")\n",
    "plt.xlabel(\"Income\")\n",
    "plt.ylabel(\"Frequency\")\n",
    "fig = plt.figure()\n",
    "plt.show()"
   ]
  },
  {
   "cell_type": "code",
   "execution_count": 63,
   "id": "dc743a0a",
   "metadata": {},
   "outputs": [
    {
     "data": {
      "text/plain": [
       "729"
      ]
     },
     "execution_count": 63,
     "metadata": {},
     "output_type": "execute_result"
    }
   ],
   "source": [
    "bin_size = len(income) // 100\n",
    "bin_size"
   ]
  },
  {
   "cell_type": "code",
   "execution_count": 64,
   "id": "7ed05f59",
   "metadata": {
    "scrolled": true
   },
   "outputs": [
    {
     "data": {
      "text/plain": [
       "247868.0"
      ]
     },
     "execution_count": 64,
     "metadata": {},
     "output_type": "execute_result"
    }
   ],
   "source": [
    "income.sort()\n",
    "income[-2]"
   ]
  },
  {
   "cell_type": "markdown",
   "id": "e8f5531c",
   "metadata": {},
   "source": [
    "i = 0\n",
    "while(len(income) >= i*729):\n",
    "    print(i)\n",
    "    bins2.append(income[i*729])\n",
    "    i = i+1"
   ]
  },
  {
   "cell_type": "code",
   "execution_count": 65,
   "id": "e6dd1af4",
   "metadata": {
    "scrolled": true
   },
   "outputs": [],
   "source": [
    "bins_test = []\n",
    "bins_elements = []\n",
    "j = 0\n",
    "for i in range(len(income)):\n",
    "\n",
    "    \n",
    "    if not bins_test:\n",
    "        bins_test.append(income[i])\n",
    "        bins_elements.append(1)\n",
    "    elif bins_elements[j] < 729:\n",
    "        bins_elements[j] = bins_elements[j] + 1\n",
    "    else:\n",
    "        j = j + 1\n",
    "        bins_elements.append(1)\n",
    "        bins_test.append(income[i])\n"
   ]
  },
  {
   "cell_type": "code",
   "execution_count": 66,
   "id": "d55f13ab",
   "metadata": {},
   "outputs": [
    {
     "data": {
      "text/plain": [
       "1"
      ]
     },
     "execution_count": 66,
     "metadata": {},
     "output_type": "execute_result"
    }
   ],
   "source": [
    "bins_elements[-1]"
   ]
  },
  {
   "cell_type": "code",
   "execution_count": 67,
   "id": "aa52ce29",
   "metadata": {
    "scrolled": true
   },
   "outputs": [
    {
     "name": "stdout",
     "output_type": "stream",
     "text": [
      "Number of rows with valid Income values: 72901\n",
      "Minimum income: 2611.0\n",
      "Maximum income 248750.0\n",
      "equidepth:\n",
      "range 0 : [2611,14814),  numtuples:  729)\n",
      "range 1 : [14814,17456),  numtuples:  729)\n",
      "range 2 : [17456,19731),  numtuples:  729)\n",
      "range 3 : [19731,21265),  numtuples:  729)\n",
      "range 4 : [21265,22475),  numtuples:  729)\n",
      "range 5 : [22475,23874),  numtuples:  729)\n",
      "range 6 : [23874,24978),  numtuples:  729)\n",
      "range 7 : [24978,26015),  numtuples:  729)\n",
      "range 8 : [26015,26923),  numtuples:  729)\n",
      "range 9 : [26923,27765),  numtuples:  729)\n",
      "range 10 : [27765,28750),  numtuples:  729)\n",
      "range 11 : [28750,29620),  numtuples:  729)\n",
      "range 12 : [29620,30345),  numtuples:  729)\n",
      "range 13 : [30345,31047),  numtuples:  729)\n",
      "range 14 : [31047,31679),  numtuples:  729)\n",
      "range 15 : [31679,32267),  numtuples:  729)\n",
      "range 16 : [32267,32870),  numtuples:  729)\n",
      "range 17 : [32870,33583),  numtuples:  729)\n",
      "range 18 : [33583,34223),  numtuples:  729)\n",
      "range 19 : [34223,34884),  numtuples:  729)\n",
      "range 20 : [34884,35466),  numtuples:  729)\n",
      "range 21 : [35466,36020),  numtuples:  729)\n",
      "range 22 : [36020,36581),  numtuples:  729)\n",
      "range 23 : [36581,37123),  numtuples:  729)\n",
      "range 24 : [37123,37683),  numtuples:  729)\n",
      "range 25 : [37683,38294),  numtuples:  729)\n",
      "range 26 : [38294,38879),  numtuples:  729)\n",
      "range 27 : [38879,39461),  numtuples:  729)\n",
      "range 28 : [39461,40000),  numtuples:  729)\n",
      "range 29 : [40000,40496),  numtuples:  729)\n",
      "range 30 : [40496,40990),  numtuples:  729)\n",
      "range 31 : [40990,41462),  numtuples:  729)\n",
      "range 32 : [41462,41905),  numtuples:  729)\n",
      "range 33 : [41905,42344),  numtuples:  729)\n",
      "range 34 : [42344,42891),  numtuples:  729)\n",
      "range 35 : [42891,43484),  numtuples:  729)\n",
      "range 36 : [43484,44007),  numtuples:  729)\n",
      "range 37 : [44007,44591),  numtuples:  729)\n",
      "range 38 : [44591,45119),  numtuples:  729)\n",
      "range 39 : [45119,45643),  numtuples:  729)\n",
      "range 40 : [45643,46188),  numtuples:  729)\n",
      "range 41 : [46188,46715),  numtuples:  729)\n",
      "range 42 : [46715,47222),  numtuples:  729)\n",
      "range 43 : [47222,47774),  numtuples:  729)\n",
      "range 44 : [47774,48366),  numtuples:  729)\n",
      "range 45 : [48366,48917),  numtuples:  729)\n",
      "range 46 : [48917,49554),  numtuples:  729)\n",
      "range 47 : [49554,50125),  numtuples:  729)\n",
      "range 48 : [50125,50618),  numtuples:  729)\n",
      "range 49 : [50618,51094),  numtuples:  729)\n",
      "range 50 : [51094,51590),  numtuples:  729)\n",
      "range 51 : [51590,52107),  numtuples:  729)\n",
      "range 52 : [52107,52636),  numtuples:  729)\n",
      "range 53 : [52636,53274),  numtuples:  729)\n",
      "range 54 : [53274,53917),  numtuples:  729)\n",
      "range 55 : [53917,54583),  numtuples:  729)\n",
      "range 56 : [54583,55240),  numtuples:  729)\n",
      "range 57 : [55240,55882),  numtuples:  729)\n",
      "range 58 : [55882,56507),  numtuples:  729)\n",
      "range 59 : [56507,57192),  numtuples:  729)\n",
      "range 60 : [57192,57925),  numtuples:  729)\n",
      "range 61 : [57925,58750),  numtuples:  729)\n",
      "range 62 : [58750,59545),  numtuples:  729)\n",
      "range 63 : [59545,60266),  numtuples:  729)\n",
      "range 64 : [60266,60880),  numtuples:  729)\n",
      "range 65 : [60880,61573),  numtuples:  729)\n",
      "range 66 : [61573,62257),  numtuples:  729)\n",
      "range 67 : [62257,63125),  numtuples:  729)\n",
      "range 68 : [63125,63988),  numtuples:  729)\n",
      "range 69 : [63988,64932),  numtuples:  729)\n",
      "range 70 : [64932,65833),  numtuples:  729)\n",
      "range 71 : [65833,66732),  numtuples:  729)\n",
      "range 72 : [66732,67775),  numtuples:  729)\n",
      "range 73 : [67775,68951),  numtuples:  729)\n",
      "range 74 : [68951,70117),  numtuples:  729)\n",
      "range 75 : [70117,71146),  numtuples:  729)\n",
      "range 76 : [71146,72222),  numtuples:  729)\n",
      "range 77 : [72222,73413),  numtuples:  729)\n",
      "range 78 : [73413,74760),  numtuples:  729)\n",
      "range 79 : [74760,76065),  numtuples:  729)\n",
      "range 80 : [76065,77448),  numtuples:  729)\n",
      "range 81 : [77448,79196),  numtuples:  729)\n",
      "range 82 : [79196,80833),  numtuples:  729)\n",
      "range 83 : [80833,82241),  numtuples:  729)\n",
      "range 84 : [82241,83929),  numtuples:  729)\n",
      "range 85 : [83929,85772),  numtuples:  729)\n",
      "range 86 : [85772,87750),  numtuples:  729)\n",
      "range 87 : [87750,90259),  numtuples:  729)\n",
      "range 88 : [90259,92476),  numtuples:  729)\n",
      "range 89 : [92476,95146),  numtuples:  729)\n",
      "range 90 : [95146,97679),  numtuples:  729)\n",
      "range 91 : [97679,100847),  numtuples:  729)\n",
      "range 92 : [100847,103750),  numtuples:  729)\n",
      "range 93 : [103750,107703),  numtuples:  729)\n",
      "range 94 : [107703,112150),  numtuples:  729)\n",
      "range 95 : [112150,117984),  numtuples:  729)\n",
      "range 96 : [117984,125156),  numtuples:  729)\n",
      "range 97 : [125156,136250),  numtuples:  729)\n",
      "range 98 : [136250,154583),  numtuples:  729)\n",
      "range 99 : [154583,248750),  numtuples:  729)\n",
      "range 100  : [248750,248750),  numtuples:  1)\n"
     ]
    }
   ],
   "source": [
    "print('Number of rows with valid Income values:', len(income))\n",
    "print(\"Minimum income:\", min_income)\n",
    "print(\"Maximum income\", max_income)\n",
    "print(\"equidepth:\")\n",
    "for i in range(len(bins_test)-1):\n",
    "    print(\"range %d : [%d,%d),  numtuples:  %d)\" % (i,bins_test[i],bins_test[i+1], bin_size))\n",
    "\n",
    "if len(bins_test)%2 == 1:\n",
    "        print(\"range %d  : [%d,%d),  numtuples:  %d)\" % (i+1,bins_test[-1],bins_test[-1], bins_elements[-1]))"
   ]
  },
  {
   "cell_type": "code",
   "execution_count": 68,
   "id": "9b6d3112",
   "metadata": {},
   "outputs": [
    {
     "data": {
      "text/plain": [
       "101"
      ]
     },
     "execution_count": 68,
     "metadata": {},
     "output_type": "execute_result"
    }
   ],
   "source": [
    "len(bins_test)"
   ]
  },
  {
   "cell_type": "code",
   "execution_count": 69,
   "id": "b9129f68",
   "metadata": {},
   "outputs": [
    {
     "data": {
      "text/plain": [
       "101"
      ]
     },
     "execution_count": 69,
     "metadata": {},
     "output_type": "execute_result"
    }
   ],
   "source": [
    "len(bins_elements)"
   ]
  },
  {
   "cell_type": "code",
   "execution_count": null,
   "id": "d292295e",
   "metadata": {},
   "outputs": [],
   "source": []
  }
 ],
 "metadata": {
  "kernelspec": {
   "display_name": "Python 3 (ipykernel)",
   "language": "python",
   "name": "python3"
  },
  "language_info": {
   "codemirror_mode": {
    "name": "ipython",
    "version": 3
   },
   "file_extension": ".py",
   "mimetype": "text/x-python",
   "name": "python",
   "nbconvert_exporter": "python",
   "pygments_lexer": "ipython3",
   "version": "3.9.7"
  }
 },
 "nbformat": 4,
 "nbformat_minor": 5
}
