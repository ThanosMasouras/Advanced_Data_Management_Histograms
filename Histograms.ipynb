{
 "cells": [
  {
   "cell_type": "code",
   "execution_count": 18,
   "id": "df31c162",
   "metadata": {},
   "outputs": [],
   "source": [
    "import pandas as pd\n",
    "import numpy as np\n",
    "from matplotlib import pyplot as plt"
   ]
  },
  {
   "cell_type": "code",
   "execution_count": 19,
   "id": "d4184585",
   "metadata": {},
   "outputs": [],
   "source": [
    "# Read the CSV file and ignore rows where Income is not recorded\n",
    "data = pd.read_csv('acs2015_census_tract_data.csv', usecols=['Income'], na_values=['(X)'])"
   ]
  },
  {
   "cell_type": "code",
   "execution_count": 20,
   "id": "87c84ef9",
   "metadata": {},
   "outputs": [],
   "source": [
    "# Remove rows with missing Income values\n",
    "data.dropna(inplace=True)"
   ]
  },
  {
   "cell_type": "code",
   "execution_count": 21,
   "id": "53f21d53",
   "metadata": {},
   "outputs": [
    {
     "name": "stdout",
     "output_type": "stream",
     "text": [
      "Number of rows with valid Income values: 72901\n"
     ]
    }
   ],
   "source": [
    "# Convert Income to a numpy array\n",
    "income = np.array(data['Income'])"
   ]
  },
  {
   "cell_type": "code",
   "execution_count": 22,
   "id": "1ce50027",
   "metadata": {},
   "outputs": [],
   "source": [
    "min_income = income.min()\n",
    "max_income = income.max()"
   ]
  },
  {
   "cell_type": "code",
   "execution_count": 44,
   "id": "266689e4",
   "metadata": {},
   "outputs": [
    {
     "data": {
      "image/png": "[encoded data removed]",
      "text/plain": [
       "<Figure size 432x288 with 1 Axes>"
      ]
     },
     "metadata": {
      "needs_background": "light"
     },
     "output_type": "display_data"
    },
    {
     "data": {
      "text/plain": [
       "<Figure size 432x288 with 0 Axes>"
      ]
     },
     "metadata": {},
     "output_type": "display_data"
    }
   ],
   "source": [
    "plt.hist(income, bins=100)\n",
    "plt.xlim(0,max_income)\n",
    "plt.title(\"Equi-width Histogram\")\n",
    "plt.xlabel(\"Income\")\n",
    "plt.ylabel(\"Frequency\")\n",
    "fig = plt.figure()\n",
    "plt.show()"
   ]
  },
  {
   "cell_type": "code",
   "execution_count": 30,
   "id": "851ad818",
   "metadata": {},
   "outputs": [],
   "source": [
    "hist, bins = np.histogram(income, bins=100, range=(min_income, max_income))"
   ]
  },
  {
   "cell_type": "code",
   "execution_count": 70,
   "id": "6c4cc776",
   "metadata": {
    "scrolled": false
   },
   "outputs": [
    {
     "name": "stdout",
     "output_type": "stream",
     "text": [
      "Number of rows with valid Income values: 72901\n",
      "Minimum income: 2611.0\n",
      "Maximum income 248750.0\n",
      "equiwidth:\n",
      "range: (2611,5072),  numtuples:  13)\n",
      "range: (5072,7533),  numtuples:  23)\n",
      "range: (7533,9995),  numtuples:  85)\n",
      "range: (9995,12456),  numtuples:  240)\n",
      "range: (12456,14917),  numtuples:  386)\n",
      "range: (14917,17379),  numtuples:  687)\n",
      "range: (17379,19840),  numtuples:  799)\n",
      "range: (19840,22302),  numtuples:  1286)\n",
      "range: (22302,24763),  numtuples:  1413)\n",
      "range: (24763,27224),  numtuples:  1938)\n",
      "range: (27224,29686),  numtuples:  1936)\n",
      "range: (29686,32147),  numtuples:  2715)\n",
      "range: (32147,34609),  numtuples:  2740)\n",
      "range: (34609,37070),  numtuples:  3167)\n",
      "range: (37070,39531),  numtuples:  3081)\n",
      "range: (39531,41993),  numtuples:  3676)\n",
      "range: (41993,44454),  numtuples:  3331)\n",
      "range: (44454,46916),  numtuples:  3384)\n",
      "range: (46916,49377),  numtuples:  3175)\n",
      "range: (49377,51838),  numtuples:  3465)\n",
      "range: (51838,54300),  numtuples:  2996)\n",
      "range: (54300,56761),  numtuples:  2738)\n",
      "range: (56761,59222),  numtuples:  2358)\n",
      "range: (59222,61684),  numtuples:  2613)\n",
      "range: (61684,64145),  numtuples:  2199)\n",
      "range: (64145,66607),  numtuples:  1951)\n",
      "range: (66607,69068),  numtuples:  1618)\n",
      "range: (69068,71529),  numtuples:  1649)\n",
      "range: (71529,73991),  numtuples:  1500)\n",
      "range: (73991,76452),  numtuples:  1362)\n",
      "range: (76452,78914),  numtuples:  1155)\n",
      "range: (78914,81375),  numtuples:  1133)\n",
      "range: (81375,83836),  numtuples:  1115)\n",
      "range: (83836,86298),  numtuples:  960)\n",
      "range: (86298,88759),  numtuples:  817)\n",
      "range: (88759,91221),  numtuples:  773)\n",
      "range: (91221,93682),  numtuples:  741)\n",
      "range: (93682,96143),  numtuples:  696)\n",
      "range: (96143,98605),  numtuples:  613)\n",
      "range: (98605,101066),  numtuples:  593)\n",
      "range: (101066,103527),  numtuples:  624)\n",
      "range: (103527,105989),  numtuples:  502)\n",
      "range: (105989,108450),  numtuples:  403)\n",
      "range: (108450,110912),  numtuples:  405)\n",
      "range: (110912,113373),  numtuples:  379)\n",
      "range: (113373,115834),  numtuples:  294)\n",
      "range: (115834,118296),  numtuples:  292)\n",
      "range: (118296,120757),  numtuples:  262)\n",
      "range: (120757,123219),  numtuples:  273)\n",
      "range: (123219,125680),  numtuples:  218)\n",
      "range: (125680,128141),  numtuples:  211)\n",
      "range: (128141,130603),  numtuples:  159)\n",
      "range: (130603,133064),  numtuples:  148)\n",
      "range: (133064,135526),  numtuples:  121)\n",
      "range: (135526,137987),  numtuples:  122)\n",
      "range: (137987,140448),  numtuples:  117)\n",
      "range: (140448,142910),  numtuples:  108)\n",
      "range: (142910,145371),  numtuples:  83)\n",
      "range: (145371,147833),  numtuples:  91)\n",
      "range: (147833,150294),  numtuples:  87)\n",
      "range: (150294,152755),  numtuples:  105)\n",
      "range: (152755,155217),  numtuples:  68)\n",
      "range: (155217,157678),  numtuples:  69)\n",
      "range: (157678,160139),  numtuples:  52)\n",
      "range: (160139,162601),  numtuples:  59)\n",
      "range: (162601,165062),  numtuples:  49)\n",
      "range: (165062,167524),  numtuples:  44)\n",
      "range: (167524,169985),  numtuples:  44)\n",
      "range: (169985,172446),  numtuples:  36)\n",
      "range: (172446,174908),  numtuples:  22)\n",
      "range: (174908,177369),  numtuples:  40)\n",
      "range: (177369,179831),  numtuples:  23)\n",
      "range: (179831,182292),  numtuples:  22)\n",
      "range: (182292,184753),  numtuples:  18)\n",
      "range: (184753,187215),  numtuples:  15)\n",
      "range: (187215,189676),  numtuples:  21)\n",
      "range: (189676,192138),  numtuples:  20)\n",
      "range: (192138,194599),  numtuples:  6)\n",
      "range: (194599,197060),  numtuples:  19)\n",
      "range: (197060,199522),  numtuples:  11)\n",
      "range: (199522,201983),  numtuples:  14)\n",
      "range: (201983,204444),  numtuples:  19)\n",
      "range: (204444,206906),  numtuples:  16)\n",
      "range: (206906,209367),  numtuples:  16)\n",
      "range: (209367,211829),  numtuples:  10)\n",
      "range: (211829,214290),  numtuples:  10)\n",
      "range: (214290,216751),  numtuples:  10)\n",
      "range: (216751,219213),  numtuples:  7)\n",
      "range: (219213,221674),  numtuples:  3)\n",
      "range: (221674,224136),  numtuples:  2)\n",
      "range: (224136,226597),  numtuples:  2)\n",
      "range: (226597,229058),  numtuples:  4)\n",
      "range: (229058,231520),  numtuples:  2)\n",
      "range: (231520,233981),  numtuples:  5)\n",
      "range: (233981,236443),  numtuples:  4)\n",
      "range: (236443,238904),  numtuples:  3)\n",
      "range: (238904,241365),  numtuples:  2)\n",
      "range: (241365,243827),  numtuples:  2)\n",
      "range: (243827,246288),  numtuples:  4)\n",
      "range: (246288,248750),  numtuples:  4)\n"
     ]
    },
    {
     "ename": "IndexError",
     "evalue": "index 101 is out of bounds for axis 0 with size 101",
     "output_type": "error",
     "traceback": [
      "\u001b[0;31m---------------------------------------------------------------------------\u001b[0m",
      "\u001b[0;31mIndexError\u001b[0m                                Traceback (most recent call last)",
      "\u001b[0;32m/var/folders/l2/_j01fqvd6ln31rfms4z9yx8c0000gn/T/ipykernel_35588/227001500.py\u001b[0m in \u001b[0;36m<module>\u001b[0;34m\u001b[0m\n\u001b[1;32m      4\u001b[0m \u001b[0mprint\u001b[0m\u001b[0;34m(\u001b[0m\u001b[0;34m\"equiwidth:\"\u001b[0m\u001b[0;34m)\u001b[0m\u001b[0;34m\u001b[0m\u001b[0;34m\u001b[0m\u001b[0m\n\u001b[1;32m      5\u001b[0m \u001b[0;32mfor\u001b[0m \u001b[0mi\u001b[0m \u001b[0;32min\u001b[0m \u001b[0mrange\u001b[0m\u001b[0;34m(\u001b[0m\u001b[0mlen\u001b[0m\u001b[0;34m(\u001b[0m\u001b[0mbins\u001b[0m\u001b[0;34m)\u001b[0m\u001b[0;34m)\u001b[0m\u001b[0;34m:\u001b[0m\u001b[0;34m\u001b[0m\u001b[0;34m\u001b[0m\u001b[0m\n\u001b[0;32m----> 6\u001b[0;31m     \u001b[0mprint\u001b[0m\u001b[0;34m(\u001b[0m\u001b[0;34m\"range: (%d,%d),  numtuples:  %d)\"\u001b[0m \u001b[0;34m%\u001b[0m \u001b[0;34m(\u001b[0m\u001b[0mbins\u001b[0m\u001b[0;34m[\u001b[0m\u001b[0mi\u001b[0m\u001b[0;34m]\u001b[0m\u001b[0;34m,\u001b[0m\u001b[0mbins\u001b[0m\u001b[0;34m[\u001b[0m\u001b[0mi\u001b[0m\u001b[0;34m+\u001b[0m\u001b[0;36m1\u001b[0m\u001b[0;34m]\u001b[0m\u001b[0;34m,\u001b[0m \u001b[0mhist\u001b[0m\u001b[0;34m[\u001b[0m\u001b[0mi\u001b[0m\u001b[0;34m]\u001b[0m\u001b[0;34m)\u001b[0m\u001b[0;34m)\u001b[0m\u001b[0;34m\u001b[0m\u001b[0;34m\u001b[0m\u001b[0m\n\u001b[0m",
      "\u001b[0;31mIndexError\u001b[0m: index 101 is out of bounds for axis 0 with size 101"
     ]
    }
   ],
   "source": [
    "print('Number of rows with valid Income values:', len(income))\n",
    "print(\"Minimum income:\", min_income)\n",
    "print(\"Maximum income\", max_income)\n",
    "print(\"equiwidth:\")\n",
    "for i in range(len(bins)):\n",
    "    print(\"range: (%d,%d),  numtuples:  %d)\" % (bins[i],bins[i+1], hist[i]))"
   ]
  },
  {
   "cell_type": "code",
   "execution_count": null,
   "id": "e3f3f534",
   "metadata": {},
   "outputs": [],
   "source": []
  }
 ],
 "metadata": {
  "kernelspec": {
   "display_name": "Python 3 (ipykernel)",
   "language": "python",
   "name": "python3"
  },
  "language_info": {
   "codemirror_mode": {
    "name": "ipython",
    "version": 3
   },
   "file_extension": ".py",
   "mimetype": "text/x-python",
   "name": "python",
   "nbconvert_exporter": "python",
   "pygments_lexer": "ipython3",
   "version": "3.9.7"
  }
 },
 "nbformat": 4,
 "nbformat_minor": 5
}
